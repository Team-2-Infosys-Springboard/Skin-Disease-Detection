{
  "metadata": {
    "kernelspec": {
      "display_name": "Python 3",
      "name": "python3"
    },
    "language_info": {
      "name": "python",
      "version": "3.10.12",
      "mimetype": "text/x-python",
      "codemirror_mode": {
        "name": "ipython",
        "version": 3
      },
      "pygments_lexer": "ipython3",
      "nbconvert_exporter": "python",
      "file_extension": ".py"
    },
    "kaggle": {
      "accelerator": "none",
      "dataSources": [
        {
          "sourceId": 10453795,
          "sourceType": "datasetVersion",
          "datasetId": 6471231
        }
      ],
      "dockerImageVersionId": 30822,
      "isInternetEnabled": true,
      "language": "python",
      "sourceType": "notebook",
      "isGpuEnabled": false
    },
    "colab": {
      "provenance": [],
      "gpuType": "T4"
    },
    "accelerator": "GPU"
  },
  "nbformat_minor": 0,
  "nbformat": 4,
  "cells": [
    {
      "cell_type": "code",
      "source": [
        "import os\n",
        "import cv2\n",
        "import numpy as np\n",
        "import tensorflow as tf\n",
        "from sklearn.svm import SVC\n",
        "from sklearn.metrics import classification_report, confusion_matrix\n",
        "import matplotlib.pyplot as plt\n",
        "from tensorflow.keras.applications import ResNet50\n",
        "from tensorflow.keras.applications.resnet50 import preprocess_input as resnet_preprocess\n",
        "from tensorflow.keras.preprocessing.image import ImageDataGenerator\n",
        "from PIL import Image\n",
        "from sklearn.model_selection import train_test_split, cross_val_score\n",
        "import pickle\n",
        "from sklearn.model_selection import GridSearchCV\n",
        "import  seaborn as sns"
      ],
      "metadata": {
        "_uuid": "8f2839f25d086af736a60e9eeb907d3b93b6e0e5",
        "_cell_guid": "b1076dfc-b9ad-4769-8c92-a6c4dae69d19",
        "trusted": true,
        "execution": {
          "iopub.status.busy": "2025-01-13T13:59:01.496859Z",
          "iopub.execute_input": "2025-01-13T13:59:01.497227Z",
          "iopub.status.idle": "2025-01-13T13:59:13.696835Z",
          "shell.execute_reply.started": "2025-01-13T13:59:01.497198Z",
          "shell.execute_reply": "2025-01-13T13:59:13.695659Z"
        },
        "id": "O4lYJlcXEBij"
      },
      "outputs": [],
      "execution_count": null
    },
    {
      "cell_type": "code",
      "source": [
        "'''import zipfile\n",
        "\n",
        "zip_file_path = '/content/sd.zip'\n",
        "extract_to_path = '/content'\n",
        "\n",
        "with zipfile.ZipFile(zip_file_path, 'r') as zip_ref:\n",
        "    zip_ref.extractall(extract_to_path)\n",
        "\n",
        "print(f\"Dataset extracted to: {extract_to_path}\")'''"
      ],
      "metadata": {
        "colab": {
          "base_uri": "https://localhost:8080/",
          "height": 72
        },
        "id": "ceq6UaCDFPtP",
        "outputId": "4dc1df2a-361d-45c5-b7ef-e7136a69c442"
      },
      "execution_count": null,
      "outputs": [
        {
          "output_type": "execute_result",
          "data": {
            "text/plain": [
              "'import zipfile\\n\\nzip_file_path = \\'/content/sd.zip\\'\\nextract_to_path = \\'/content\\'\\n\\nwith zipfile.ZipFile(zip_file_path, \\'r\\') as zip_ref:\\n    zip_ref.extractall(extract_to_path)\\n\\nprint(f\"Dataset extracted to: {extract_to_path}\")'"
            ],
            "application/vnd.google.colaboratory.intrinsic+json": {
              "type": "string"
            }
          },
          "metadata": {},
          "execution_count": 3
        }
      ]
    },
    {
      "cell_type": "code",
      "source": [
        "Categories = ['VI-shingles', 'VI-chickenpox', 'BA- cellulitis', 'FU-athlete-foot',\n",
        "              'BA-impetigo', 'FU-nail-fungus', 'FU-ringworm', 'PA-cutaneous-larva-migrans','Healthy']"
      ],
      "metadata": {
        "trusted": true,
        "execution": {
          "iopub.status.busy": "2025-01-13T13:59:13.698387Z",
          "iopub.execute_input": "2025-01-13T13:59:13.699168Z",
          "iopub.status.idle": "2025-01-13T13:59:13.703785Z",
          "shell.execute_reply.started": "2025-01-13T13:59:13.699120Z",
          "shell.execute_reply": "2025-01-13T13:59:13.702747Z"
        },
        "id": "iO0RVbzSEBim"
      },
      "outputs": [],
      "execution_count": null
    },
    {
      "cell_type": "code",
      "source": [
        "test_dir = r'/content/skin-disease-datasaet/test_set'\n",
        "train_dir = r'/content/skin-disease-datasaet/train_set'"
      ],
      "metadata": {
        "trusted": true,
        "execution": {
          "iopub.status.busy": "2025-01-13T13:59:13.706191Z",
          "iopub.execute_input": "2025-01-13T13:59:13.706844Z",
          "iopub.status.idle": "2025-01-13T13:59:13.730374Z",
          "shell.execute_reply.started": "2025-01-13T13:59:13.706552Z",
          "shell.execute_reply": "2025-01-13T13:59:13.728941Z"
        },
        "id": "A9-ew8rEEBim"
      },
      "outputs": [],
      "execution_count": null
    },
    {
      "cell_type": "code",
      "source": [
        "img_size = (224, 224)\n",
        "def preprocess_image(image):\n",
        "    if image is None:\n",
        "        raise ValueError(\"Image is None\")\n",
        "\n",
        "    # Ensure image is in uint8 format\n",
        "    if image.dtype != np.uint8:\n",
        "        image = (image * 255).astype(np.uint8)\n",
        "\n",
        "    # Resize\n",
        "    image = cv2.resize(image, img_size)\n",
        "\n",
        "    # Contrast Enhancement (CLAHE)\n",
        "    try:\n",
        "        lab = cv2.cvtColor(image, cv2.COLOR_BGR2LAB)\n",
        "        l, a, b = cv2.split(lab)\n",
        "        clahe = cv2.createCLAHE(clipLimit=2.0, tileGridSize=(8, 8))\n",
        "        l = clahe.apply(l)\n",
        "        lab = cv2.merge([l, a, b])\n",
        "        image = cv2.cvtColor(lab, cv2.COLOR_LAB2BGR)\n",
        "    except Exception as e:\n",
        "        print(f\"Warning: CLAHE enhancement failed, using original image. Error: {str(e)}\")\n",
        "\n",
        "    # Convert to float32 and normalize to [0, 1]\n",
        "    image = image.astype(np.float32)\n",
        "\n",
        "    # Apply ResNet50 preprocessing\n",
        "    image = resnet_preprocess(image)\n",
        "    return image\n"
      ],
      "metadata": {
        "trusted": true,
        "execution": {
          "iopub.status.busy": "2025-01-13T13:59:13.731978Z",
          "iopub.execute_input": "2025-01-13T13:59:13.732332Z",
          "iopub.status.idle": "2025-01-13T13:59:13.753218Z",
          "shell.execute_reply.started": "2025-01-13T13:59:13.732291Z",
          "shell.execute_reply": "2025-01-13T13:59:13.751988Z"
        },
        "id": "MDeXkjxvEBin"
      },
      "outputs": [],
      "execution_count": null
    },
    {
      "cell_type": "code",
      "source": [
        "def create_data(directory):\n",
        "    data = []\n",
        "    labels = []\n",
        "\n",
        "    for idx, category in enumerate(Categories):\n",
        "        path = os.path.join(directory, category)\n",
        "        for img_name in os.listdir(path):\n",
        "            try:\n",
        "                img_path = os.path.join(path, img_name)\n",
        "                img = cv2.imread(img_path)\n",
        "                if img is None:\n",
        "                    continue\n",
        "\n",
        "                processed_img = preprocess_image(img)\n",
        "                data.append(processed_img)\n",
        "                labels.append(idx)\n",
        "\n",
        "            except Exception as e:\n",
        "                print(f\"Error processing {img_path}: {str(e)}\")\n",
        "                continue\n",
        "\n",
        "    return np.array(data), np.array(labels)"
      ],
      "metadata": {
        "trusted": true,
        "execution": {
          "iopub.status.busy": "2025-01-13T13:59:13.754506Z",
          "iopub.execute_input": "2025-01-13T13:59:13.754948Z",
          "iopub.status.idle": "2025-01-13T13:59:13.773633Z",
          "shell.execute_reply.started": "2025-01-13T13:59:13.754911Z",
          "shell.execute_reply": "2025-01-13T13:59:13.772561Z"
        },
        "id": "Ig08bwVqEBin"
      },
      "outputs": [],
      "execution_count": null
    },
    {
      "cell_type": "code",
      "source": [
        "def augment_data(images, labels, augmentation_per_image=2):\n",
        "    datagen = ImageDataGenerator(\n",
        "        rotation_range=30,\n",
        "        width_shift_range=0.15,\n",
        "        height_shift_range=0.15,\n",
        "        shear_range=0.15,\n",
        "        zoom_range=[0.8, 1.2],\n",
        "        horizontal_flip=True,\n",
        "        vertical_flip=True,\n",
        "        brightness_range=[0.8, 1.2],\n",
        "        fill_mode='reflect',\n",
        "        rescale=1./255\n",
        "    )\n",
        "\n",
        "    augmented_images = []\n",
        "    augmented_labels = []\n",
        "\n",
        "    # Add original images and labels\n",
        "    augmented_images.extend(images)\n",
        "    augmented_labels.extend(labels)\n",
        "\n",
        "    print(f\"\\nAugmenting data... Original size: {len(images)}\")\n",
        "\n",
        "    # Generate augmented images\n",
        "    for i in range(len(images)):\n",
        "        img = images[i]\n",
        "        label = labels[i]\n",
        "        img_reshaped = np.expand_dims(img, 0)\n",
        "\n",
        "        # Generate n augmented versions of each image\n",
        "        for _ in range(augmentation_per_image):\n",
        "            augmented = next(datagen.flow(img_reshaped, batch_size=1))[0]\n",
        "            augmented_images.append(augmented)\n",
        "            augmented_labels.append(label)\n",
        "\n",
        "        if (i + 1) % 100 == 0:\n",
        "            print(f\"Processed {i + 1} images...\")\n",
        "\n",
        "    augmented_images = np.array(augmented_images)\n",
        "    augmented_labels = np.array(augmented_labels)\n",
        "    print(f\"Augmentation complete. New size: {len(augmented_images)}\")\n",
        "\n",
        "    return augmented_images, augmented_labels\n"
      ],
      "metadata": {
        "trusted": true,
        "execution": {
          "iopub.status.busy": "2025-01-13T13:59:13.774676Z",
          "iopub.execute_input": "2025-01-13T13:59:13.775042Z",
          "iopub.status.idle": "2025-01-13T13:59:13.798554Z",
          "shell.execute_reply.started": "2025-01-13T13:59:13.775008Z",
          "shell.execute_reply": "2025-01-13T13:59:13.797424Z"
        },
        "id": "pa95uUGTEBin"
      },
      "outputs": [],
      "execution_count": null
    },
    {
      "cell_type": "code",
      "source": [
        "def plot_sample_images(data, labels, num_samples=5):\n",
        "    plt.figure(figsize=(15, 3))\n",
        "    for i in range(min(num_samples, len(data))):\n",
        "        plt.subplot(1, num_samples, i+1)\n",
        "        img = data[i]\n",
        "\n",
        "        # Normalize the image to [0, 1]\n",
        "        img = (img - np.min(img)) / (np.max(img) - np.min(img))\n",
        "\n",
        "        # Convert to uint8 and rescale to [0, 255]\n",
        "        img = (img * 255).astype(np.uint8)\n",
        "\n",
        "        # Convert from BGR to RGB\n",
        "        img = cv2.cvtColor(img, cv2.COLOR_BGR2RGB)\n",
        "\n",
        "        # Display the image\n",
        "        plt.imshow(img)\n",
        "        plt.title(f\"{Categories[labels[i]].split('-')[0]}\", fontsize=8)\n",
        "        plt.axis('off')\n",
        "\n",
        "    plt.tight_layout()\n",
        "    plt.show()\n"
      ],
      "metadata": {
        "trusted": true,
        "execution": {
          "iopub.status.busy": "2025-01-13T13:59:13.799636Z",
          "iopub.execute_input": "2025-01-13T13:59:13.800011Z",
          "iopub.status.idle": "2025-01-13T13:59:13.822218Z",
          "shell.execute_reply.started": "2025-01-13T13:59:13.799970Z",
          "shell.execute_reply": "2025-01-13T13:59:13.820865Z"
        },
        "id": "Q7v4wzFWEBio"
      },
      "outputs": [],
      "execution_count": null
    },
    {
      "cell_type": "code",
      "source": [
        "def plot_class_distribution(directory):\n",
        "    class_counts = []\n",
        "    for category in Categories:\n",
        "        path = os.path.join(directory, category)\n",
        "        count = len(os.listdir(path))\n",
        "        class_counts.append(count)\n",
        "\n",
        "    plt.figure(figsize=(10, 6))\n",
        "    plt.pie(class_counts, labels=[cat.split('-')[0] for cat in Categories], autopct='%1.1f%%')\n",
        "    plt.title('Distribution of Images Across Classes')\n",
        "    plt.axis('equal')\n",
        "    plt.show()\n"
      ],
      "metadata": {
        "trusted": true,
        "execution": {
          "iopub.status.busy": "2025-01-13T13:59:13.823297Z",
          "iopub.execute_input": "2025-01-13T13:59:13.823587Z",
          "iopub.status.idle": "2025-01-13T13:59:13.841958Z",
          "shell.execute_reply.started": "2025-01-13T13:59:13.823561Z",
          "shell.execute_reply": "2025-01-13T13:59:13.840633Z"
        },
        "id": "fYJgIBULEBio"
      },
      "outputs": [],
      "execution_count": null
    },
    {
      "cell_type": "code",
      "source": [
        "def plot_confusion_matrix(y_true, y_pred):\n",
        "    cm = confusion_matrix(y_true, y_pred)\n",
        "    plt.figure(figsize=(12, 8))\n",
        "    sns.heatmap(cm, annot=True, fmt='d', cmap='Blues',\n",
        "                xticklabels=[cat.split('-')[0] for cat in Categories],\n",
        "                yticklabels=[cat.split('-')[0] for cat in Categories])\n",
        "    plt.title('Confusion Matrix')\n",
        "    plt.ylabel('True Label')\n",
        "    plt.xlabel('Predicted Label')\n",
        "    plt.tight_layout()\n",
        "    plt.show()\n"
      ],
      "metadata": {
        "trusted": true,
        "execution": {
          "iopub.status.busy": "2025-01-13T13:59:13.844325Z",
          "iopub.execute_input": "2025-01-13T13:59:13.844613Z",
          "iopub.status.idle": "2025-01-13T13:59:13.857270Z",
          "shell.execute_reply.started": "2025-01-13T13:59:13.844590Z",
          "shell.execute_reply": "2025-01-13T13:59:13.856132Z"
        },
        "id": "ulNhuHsAEBip"
      },
      "outputs": [],
      "execution_count": null
    },
    {
      "cell_type": "code",
      "source": [
        "if __name__ == \"__main__\":\n",
        "    # Load and preprocess data\n",
        "    print(\"Loading training data...\")\n",
        "    train_data, train_labels = create_data(train_dir)\n",
        "    print(f\"Original training data shape: {train_data.shape}\")\n",
        "\n",
        "    print(\"\\nLoading test data...\")\n",
        "    test_data, test_labels = create_data(test_dir)\n",
        "    print(f\"Test data shape: {test_data.shape}\")\n",
        "\n",
        "    # Perform data augmentation\n",
        "    print(\"\\nPerforming data augmentation...\")\n",
        "    train_data_augmented, train_labels_augmented = augment_data(train_data, train_labels)\n",
        "    print(f\"Augmented training data shape: {train_data_augmented.shape}\")\n",
        "\n",
        "    # Feature Extraction using ResNet50\n",
        "    print(\"\\nExtracting features using ResNet50...\")\n",
        "    base_model = ResNet50(weights='imagenet', include_top=False,\n",
        "                          input_shape=(img_size[0], img_size[1], 3))\n",
        "\n",
        "    train_features = base_model.predict(train_data_augmented, batch_size=32, verbose=1)\n",
        "    test_features = base_model.predict(test_data, batch_size=32, verbose=1)\n",
        "\n",
        "    # Flatten features\n",
        "    train_features_flat = train_features.reshape(train_features.shape[0], -1)\n",
        "    test_features_flat = test_features.reshape(test_features.shape[0], -1)\n",
        "\n",
        "    # Train SVM with GPU acceleration (if RAPIDS is available)\n",
        "    print(\"\\nTraining SVM...\")\n",
        "    try:\n",
        "        from cuml.svm import SVC\n",
        "        print(\"Using RAPIDS cuML for GPU-accelerated SVM training.\")\n",
        "        svm_model = SVC(probability=True)\n",
        "    except ImportError:\n",
        "        from sklearn.svm import SVC\n",
        "        print(\"RAPIDS not available. Falling back to scikit-learn's SVM.\")\n",
        "        svm_model = SVC(probability=True)\n",
        "\n",
        "    svm_model.fit(train_features_flat, train_labels_augmented)\n",
        "\n",
        "    # Evaluate the SVM model\n",
        "    print(\"\\nEvaluating the SVM model...\")\n",
        "    predictions = svm_model.predict(test_features_flat)\n",
        "    print(\"\\nClassification Report:\")\n",
        "    print(classification_report(test_labels, predictions, target_names=Categories))\n",
        "\n",
        "    # Plot confusion matrix\n",
        "    print(\"\\nPlotting confusion matrix...\")\n",
        "    plot_confusion_matrix(test_labels, predictions)\n",
        "\n",
        "    # Save the trained SVM model\n",
        "    print(\"\\nSaving the trained SVM model to 'svm_model_optimized.pkl'...\")\n",
        "    with open(\"svm_model_optimized.pkl\", \"wb\") as model_file:\n",
        "        pickle.dump(svm_model, model_file)\n",
        "    print(\"SVM model saved successfully.\")\n",
        "\n",
        "    # Save the ResNet50 base model\n",
        "    print(\"\\nSaving the ResNet50 base model to 'resnet50_base_model.h5'...\")\n",
        "    base_model.save(\"resnet50_base_model.h5\")\n",
        "    print(\"ResNet50 base model saved successfully.\")\n"
      ],
      "metadata": {
        "trusted": true,
        "execution": {
          "iopub.status.busy": "2025-01-13T13:59:13.858543Z",
          "iopub.execute_input": "2025-01-13T13:59:13.858888Z"
        },
        "colab": {
          "base_uri": "https://localhost:8080/",
          "height": 1000
        },
        "id": "rRzKrNOzEBip",
        "outputId": "79a3e1fb-0b50-4eab-a528-4904f819b6a2"
      },
      "outputs": [
        {
          "output_type": "stream",
          "name": "stdout",
          "text": [
            "Loading training data...\n",
            "Original training data shape: (1021, 224, 224, 3)\n",
            "\n",
            "Loading test data...\n",
            "Test data shape: (262, 224, 224, 3)\n",
            "\n",
            "Performing data augmentation...\n",
            "\n",
            "Augmenting data... Original size: 1021\n",
            "Processed 100 images...\n",
            "Processed 200 images...\n",
            "Processed 300 images...\n",
            "Processed 400 images...\n",
            "Processed 500 images...\n",
            "Processed 600 images...\n",
            "Processed 700 images...\n",
            "Processed 800 images...\n",
            "Processed 900 images...\n",
            "Processed 1000 images...\n",
            "Augmentation complete. New size: 3063\n",
            "Augmented training data shape: (3063, 224, 224, 3)\n",
            "\n",
            "Extracting features using ResNet50...\n",
            "Downloading data from https://storage.googleapis.com/tensorflow/keras-applications/resnet/resnet50_weights_tf_dim_ordering_tf_kernels_notop.h5\n",
            "\u001b[1m94765736/94765736\u001b[0m \u001b[32m━━━━━━━━━━━━━━━━━━━━\u001b[0m\u001b[37m\u001b[0m \u001b[1m0s\u001b[0m 0us/step\n",
            "\u001b[1m96/96\u001b[0m \u001b[32m━━━━━━━━━━━━━━━━━━━━\u001b[0m\u001b[37m\u001b[0m \u001b[1m19s\u001b[0m 124ms/step\n",
            "\u001b[1m9/9\u001b[0m \u001b[32m━━━━━━━━━━━━━━━━━━━━\u001b[0m\u001b[37m\u001b[0m \u001b[1m3s\u001b[0m 341ms/step\n",
            "\n",
            "Training SVM...\n",
            "RAPIDS not available. Falling back to scikit-learn's SVM.\n",
            "\n",
            "Evaluating the SVM model...\n",
            "\n",
            "Classification Report:\n",
            "                            precision    recall  f1-score   support\n",
            "\n",
            "               VI-shingles       0.97      0.94      0.95        33\n",
            "             VI-chickenpox       1.00      0.97      0.99        34\n",
            "            BA- cellulitis       0.58      0.97      0.73        34\n",
            "           FU-athlete-foot       1.00      0.78      0.88        32\n",
            "               BA-impetigo       1.00      0.90      0.95        20\n",
            "            FU-nail-fungus       0.85      1.00      0.92        33\n",
            "               FU-ringworm       1.00      0.78      0.88        23\n",
            "PA-cutaneous-larva-migrans       0.95      0.76      0.84        25\n",
            "                   Healthy       1.00      0.71      0.83        28\n",
            "\n",
            "                  accuracy                           0.88       262\n",
            "                 macro avg       0.93      0.87      0.88       262\n",
            "              weighted avg       0.92      0.88      0.88       262\n",
            "\n",
            "\n",
            "Plotting confusion matrix...\n"
          ]
        },
        {
          "output_type": "display_data",
          "data": {
            "text/plain": [
              "<Figure size 1200x800 with 2 Axes>"
            ],
            "image/png": "[encoded data removed]"
          },
          "metadata": {}
        },
        {
          "output_type": "stream",
          "name": "stdout",
          "text": [
            "\n",
            "Saving the trained SVM model to 'svm_model_optimized.pkl'...\n"
          ]
        },
        {
          "output_type": "stream",
          "name": "stderr",
          "text": [
            "WARNING:absl:You are saving your model as an HDF5 file via `model.save()` or `keras.saving.save_model(model)`. This file format is considered legacy. We recommend using instead the native Keras format, e.g. `model.save('my_model.keras')` or `keras.saving.save_model(model, 'my_model.keras')`. \n"
          ]
        },
        {
          "output_type": "stream",
          "name": "stdout",
          "text": [
            "SVM model saved successfully.\n",
            "\n",
            "Saving the ResNet50 base model to 'resnet50_base_model.h5'...\n",
            "ResNet50 base model saved successfully.\n"
          ]
        }
      ],
      "execution_count": null
    },
    {
      "cell_type": "code",
      "source": [],
      "metadata": {
        "trusted": true,
        "id": "scqTk22DEBiq"
      },
      "outputs": [],
      "execution_count": null
    }
  ]
}